{
 "cells": [
  {
   "cell_type": "code",
   "execution_count": 1,
   "id": "60a68351",
   "metadata": {},
   "outputs": [],
   "source": [
    "import pandas as pd\n",
    "import numpy as np\n",
    "import matplotlib.pyplot as plt \n",
    "import seaborn as sns\n",
    "import plotly.express as px\n",
    "from sklearn.metrics import roc_auc_score\n",
    "from scikitplot.metrics import plot_roc\n",
    "from sklearn.model_selection import cross_val_score, StratifiedKFold\n",
    "from sklearn.model_selection import GridSearchCV\n",
    "from xgboost.sklearn import XGBClassifier\n",
    "from sklearn.metrics import accuracy_score, confusion_matrix, classification_report\n",
    "from sklearn.linear_model import LogisticRegression\n",
    "from sklearn.model_selection import train_test_split\n"
   ]
  },
  {
   "cell_type": "code",
   "execution_count": 2,
   "id": "4c958a0e",
   "metadata": {},
   "outputs": [],
   "source": [
    "url=\"../Telemedicina/enrolados.csv\"\n",
    "url2=\"../Telemedicina/Telemedicina_sd_enc_python_.csv\"\n",
    "url3=\"../Telemedicina/sd.csv\""
   ]
  },
  {
   "cell_type": "code",
   "execution_count": 3,
   "id": "254e576c",
   "metadata": {},
   "outputs": [],
   "source": [
    "cuantitativo=pd.read_csv(url, encoding=\"latin-1\", sep=\";\", header=0)\n",
    "cualitativo=pd.read_csv(url2, encoding=\"latin-1\", sep=\";\", header=0)\n",
    "sd=pd.read_csv(url3, encoding=\"latin-1\", sep=\";\", header=0)"
   ]
  },
  {
   "attachments": {},
   "cell_type": "markdown",
   "id": "053e5210",
   "metadata": {},
   "source": [
    "# Data wrangling"
   ]
  },
  {
   "cell_type": "code",
   "execution_count": 4,
   "id": "01396eca",
   "metadata": {},
   "outputs": [],
   "source": [
    "df=pd.merge(sd, cualitativo,on=\"ID\")"
   ]
  },
  {
   "cell_type": "code",
   "execution_count": 5,
   "id": "1ac81395",
   "metadata": {},
   "outputs": [],
   "source": [
    "def new_column(row):\n",
    "    if row['continuar.basal'] == \"si\" or row[\"continuar.seguimiento\"] == \"si\":\n",
    "        return 1\n",
    "    else:\n",
    "        return 0"
   ]
  },
  {
   "cell_type": "code",
   "execution_count": 6,
   "id": "9b526c27",
   "metadata": {},
   "outputs": [],
   "source": [
    "df['continuar'] = df.apply(new_column, axis=1)"
   ]
  },
  {
   "cell_type": "code",
   "execution_count": 7,
   "id": "4262aee5",
   "metadata": {},
   "outputs": [],
   "source": [
    "df_final=df.reset_index()"
   ]
  },
  {
   "cell_type": "code",
   "execution_count": 8,
   "id": "a2fd9bbb",
   "metadata": {},
   "outputs": [],
   "source": [
    "def f(row):\n",
    "    if row[\"Edad\"] <= 20:\n",
    "        val = \"adolescente\"\n",
    "    elif row[\"Edad\"] <= 30:\n",
    "        val = \"joven\"\n",
    "    elif row[\"Edad\"]<= 50:\n",
    "        val= \"adulto\"\n",
    "    elif row[\"Edad\"] <=60:\n",
    "        val= \"adulto mayor\"\n",
    "    else:\n",
    "        val = \"tercera_edad\"\n",
    "    return val"
   ]
  },
  {
   "cell_type": "code",
   "execution_count": 9,
   "id": "d040f646",
   "metadata": {},
   "outputs": [],
   "source": [
    "df_final[\"clasificacion_etaria\"] = df_final.apply(f, axis=1)"
   ]
  },
  {
   "attachments": {},
   "cell_type": "markdown",
   "id": "dc74cf4d",
   "metadata": {},
   "source": [
    "# Train-Test"
   ]
  },
  {
   "cell_type": "code",
   "execution_count": 10,
   "id": "8837aa07",
   "metadata": {},
   "outputs": [],
   "source": [
    "categoricas= [\"clasificacion_etaria\", \"Genero\", \"Nivel educativo\", \"Lugar de residencia actual\", \"Acceso a WiFi en el hogar\", \"Acceso a internet con datos del celular\", \"¿Qué uso podés hacer de la conexión a internet en tu hogar?\", '¿Usás correo electrónico (e-mail)?','¿Usás alguna red social (whats app, facebook, instagram, etc)?','¿Acceso a computadora?', 'Acceso a tablet', 'Acceso a celular','¿Qué plan tenés en tu celular?']\n",
    "x=df_final[categoricas]\n",
    "dummies=pd.get_dummies(x, drop_first = True)\n",
    "X=dummies\n",
    "Y=df_final[\"continuar\"]"
   ]
  },
  {
   "cell_type": "code",
   "execution_count": 66,
   "id": "0ee6a3f4",
   "metadata": {},
   "outputs": [],
   "source": [
    "X_train, X_test, y_train, y_test = train_test_split(X, Y, test_size = 0.3, shuffle=False)"
   ]
  },
  {
   "attachments": {},
   "cell_type": "markdown",
   "id": "1c8f65c0",
   "metadata": {},
   "source": [
    "# Logistic regresion "
   ]
  },
  {
   "cell_type": "code",
   "execution_count": 42,
   "id": "28fab427",
   "metadata": {},
   "outputs": [
    {
     "data": {
      "text/plain": [
       "LogisticRegression(C=10.0, random_state=0, solver='liblinear')"
      ]
     },
     "execution_count": 42,
     "metadata": {},
     "output_type": "execute_result"
    }
   ],
   "source": [
    "lr = LogisticRegression(solver='liblinear', C=10.0, random_state=0)\n",
    "# Ajustamos esta instancia con los datos de entrenamiento\n",
    "lr.fit(X_train, y_train)"
   ]
  },
  {
   "cell_type": "code",
   "execution_count": 113,
   "id": "6ba90eb4",
   "metadata": {},
   "outputs": [],
   "source": [
    "y_predict_prob = lr.predict_proba(X_test)\n",
    "y_predict_prob_class_1 = y_predict_prob[:,1]\n",
    "y_pred_class = [1 if prob > 0.35 else 0 for prob in y_predict_prob_class_1]"
   ]
  },
  {
   "cell_type": "code",
   "execution_count": null,
   "id": "9befe75d",
   "metadata": {},
   "outputs": [],
   "source": [
    "print(\"Accuracy:\", round(accuracy_score(y_test, y_pred_class), 3))"
   ]
  },
  {
   "cell_type": "code",
   "execution_count": null,
   "id": "dc323e3e",
   "metadata": {},
   "outputs": [],
   "source": [
    "from sklearn.metrics import recall_score\n",
    "y_pred = lr.predict(X_test)\n",
    "print(recall_score(y_test, y_pred_class))"
   ]
  },
  {
   "cell_type": "code",
   "execution_count": 115,
   "id": "07233fbc",
   "metadata": {},
   "outputs": [
    {
     "data": {
      "text/plain": [
       "Text(50.722222222222214, 0.5, 'Reales')"
      ]
     },
     "execution_count": 115,
     "metadata": {},
     "output_type": "execute_result"
    },
    {
     "data": {
      "image/png": "[encoded data removed]",
      "text/plain": [
       "<Figure size 640x480 with 2 Axes>"
      ]
     },
     "metadata": {},
     "output_type": "display_data"
    }
   ],
   "source": [
    "sns.heatmap(confusion_matrix(y_test, y_pred_class), annot=True, fmt='4d')\n",
    "plt.xlabel('Predichos')\n",
    "plt.ylabel('Reales')"
   ]
  },
  {
   "cell_type": "code",
   "execution_count": 116,
   "id": "545f8954",
   "metadata": {},
   "outputs": [
    {
     "name": "stdout",
     "output_type": "stream",
     "text": [
      "              precision    recall  f1-score   support\n",
      "\n",
      "           0       0.00      0.00      0.00       218\n",
      "           1       0.64      1.00      0.78       386\n",
      "\n",
      "    accuracy                           0.64       604\n",
      "   macro avg       0.32      0.50      0.39       604\n",
      "weighted avg       0.41      0.64      0.50       604\n",
      "\n"
     ]
    },
    {
     "name": "stderr",
     "output_type": "stream",
     "text": [
      "c:\\Users\\Dell\\anaconda3\\envs\\dhdsblend2021\\lib\\site-packages\\sklearn\\metrics\\_classification.py:1221: UndefinedMetricWarning: Precision and F-score are ill-defined and being set to 0.0 in labels with no predicted samples. Use `zero_division` parameter to control this behavior.\n",
      "  _warn_prf(average, modifier, msg_start, len(result))\n"
     ]
    }
   ],
   "source": [
    "from sklearn.metrics import classification_report\n",
    "print(classification_report(y_test, y_pred_class))"
   ]
  }
 ],
 "metadata": {
  "kernelspec": {
   "display_name": "dhdsblend2021",
   "language": "python",
   "name": "python3"
  },
  "language_info": {
   "codemirror_mode": {
    "name": "ipython",
    "version": 3
   },
   "file_extension": ".py",
   "mimetype": "text/x-python",
   "name": "python",
   "nbconvert_exporter": "python",
   "pygments_lexer": "ipython3",
   "version": "3.8.13"
  },
  "vscode": {
   "interpreter": {
    "hash": "e3e8d5ecfc44fcbf7b0041ea50a84c6f6df8065240cca04c77614a7b20af4e62"
   }
  }
 },
 "nbformat": 4,
 "nbformat_minor": 5
}
